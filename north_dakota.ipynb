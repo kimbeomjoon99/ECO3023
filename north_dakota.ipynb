{
  "cells": [
    {
      "cell_type": "code",
      "source": [
        "import gc\n",
        "gc.collect()"
      ],
      "metadata": {
        "colab": {
          "base_uri": "https://localhost:8080/"
        },
        "id": "JSiH9Eqku5y7",
        "outputId": "099fb949-709f-49df-943c-74316b972048"
      },
      "execution_count": null,
      "outputs": [
        {
          "output_type": "execute_result",
          "data": {
            "text/plain": [
              "275"
            ]
          },
          "metadata": {},
          "execution_count": 3
        }
      ]
    },
    {
      "cell_type": "code",
      "source": [
        "!pip install geemap"
      ],
      "metadata": {
        "id": "rwFV5NOzkAW1"
      },
      "execution_count": null,
      "outputs": []
    },
    {
      "cell_type": "code",
      "execution_count": null,
      "metadata": {
        "id": "5iOZbY5VflLj"
      },
      "outputs": [],
      "source": [
        "import ee\n",
        "import geemap"
      ]
    },
    {
      "cell_type": "code",
      "execution_count": null,
      "metadata": {
        "colab": {
          "base_uri": "https://localhost:8080/"
        },
        "id": "3wkCJCj-Z0i5",
        "outputId": "c1ba2ff0-2742-4f15-b094-58dcdb7bfbaa"
      },
      "outputs": [
        {
          "output_type": "stream",
          "name": "stdout",
          "text": [
            "To authorize access needed by Earth Engine, open the following URL in a web browser and follow the instructions. If the web browser does not start automatically, please manually browse the URL below.\n",
            "\n",
            "    https://code.earthengine.google.com/client-auth?scopes=https%3A//www.googleapis.com/auth/earthengine%20https%3A//www.googleapis.com/auth/devstorage.full_control&request_id=HZ1zVt_vgpSEnGhN9TKYn1sP0b9qLEYja9PVL_IAidw&tc=Gsc09hRLwTRB5ivDRLwnqO2lhdWWRAWubB0_XTPpqFg&cc=U7v8hpA0OtUIJL2XLeDHwXB9nvV_BvlWRwNI10grIDA\n",
            "\n",
            "The authorization workflow will generate a code, which you should paste in the box below.\n",
            "Enter verification code: 4/1AbUR2VOJRx4M_wXcLZQspB5Rtj080UdLc48W_cRgM1VaKqjPfyCqmVqNU1s\n",
            "\n",
            "Successfully saved authorization token.\n"
          ]
        }
      ],
      "source": [
        "# Google Earth Engine을 인증합니다.\n",
        "ee.Authenticate()"
      ]
    },
    {
      "cell_type": "code",
      "execution_count": null,
      "metadata": {
        "id": "di0CPd6PZ2b3"
      },
      "outputs": [],
      "source": [
        "ee.Initialize()"
      ]
    },
    {
      "cell_type": "code",
      "execution_count": null,
      "metadata": {
        "id": "-zkYLZrkeXJo"
      },
      "outputs": [],
      "source": [
        "st=['2000-05-01'] # '1991-05-01', '1992-05-01', '1993-05-01', '1994-05-01', '1995-05-01', '1996-05-01', '1997-05-01', '1998-05-01', '1999-05-01',\n",
        "ed=['2000-10-31'] # '1991-10-31', '1992-10-31', '1993-10-31', '1994-10-31', '1995-10-31', '1996-10-31', '1997-10-31', '1998-10-31', '1999-10-31',"
      ]
    },
    {
      "cell_type": "code",
      "execution_count": null,
      "metadata": {
        "id": "jT9WjaG_eVh8"
      },
      "outputs": [],
      "source": [
        "# 노스다코타주의 경계를 가져옵니다\n",
        "north_dakota = ee.FeatureCollection('TIGER/2018/Counties').filter(ee.Filter.eq('STATEFP', '29'))"
      ]
    },
    {
      "cell_type": "code",
      "execution_count": null,
      "metadata": {
        "id": "6Un7tB-O1Rar"
      },
      "outputs": [],
      "source": [
        "# MODIS NDVI 컬렉션 필터링\n",
        "collection = ee.ImageCollection('MODIS/006/MOD13A2')  # MODIS NDVI 컬렉션"
      ]
    },
    {
      "cell_type": "code",
      "execution_count": null,
      "metadata": {
        "id": "VJqQUBCT2NMm"
      },
      "outputs": [],
      "source": [
        "# 각 이미지를 다운로드합니다\n",
        "for i in range(len(st)):\n",
        "  # 아이오와주 내의 이미지로 필터링\n",
        "  filtered = collection.filterBounds(north_dakota)\n",
        "\n",
        "  # 노스다코타주의 geometry를 얻습니다\n",
        "  north_dakota_geometry = north_dakota.geometry()\n",
        "\n",
        "  # 날짜로 필터링\n",
        "  filtered = filtered.filterDate(st[i], ed[i])\n",
        "\n",
        "  # 해상도 설정\n",
        "  resolution = 1000  # 10m 해상도로 설정\n",
        "\n",
        "  # 노스다코타주를 클립하고 reprojection하는 함수를 정의합니다\n",
        "  def clip_and_reproject(image):\n",
        "      return image.clip(north_dakota_geometry).reproject('EPSG:4326', None, resolution)\n",
        "\n",
        "  # 각 이미지를 노스다코타주로 클립하고 reprojection합니다\n",
        "  north_dakota_images = filtered.map(clip_and_reproject)\n",
        "\n",
        "  # 이미지 리스트를 얻습니다\n",
        "  image_list = north_dakota_images.toList(north_dakota_images.size())\n",
        "\n",
        "  for j in range(image_list.size().getInfo()):\n",
        "      image = ee.Image(image_list.get(j))\n",
        "      date = image.date().format('YYYY-MM-dd').getInfo()\n",
        "\n",
        "      task = ee.batch.Export.image.toDrive(\n",
        "          image=image.select('NDVI'),\n",
        "          description='NDVI_Image_Missouri_' + date,\n",
        "          folder='Missouri',\n",
        "          scale=resolution,  # 해상도(scale) 설정\n",
        "          region=north_dakota_geometry  # 'region'에 직접 ee.Geometry 객체 사용\n",
        "      )\n",
        "      task.start()"
      ]
    }
  ],
  "metadata": {
    "colab": {
      "provenance": []
    },
    "kernelspec": {
      "display_name": "Python 3",
      "name": "python3"
    },
    "language_info": {
      "name": "python"
    }
  },
  "nbformat": 4,
  "nbformat_minor": 0
}